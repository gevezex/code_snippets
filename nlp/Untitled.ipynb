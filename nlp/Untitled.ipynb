{
 "cells": [
  {
   "cell_type": "code",
   "execution_count": 1,
   "metadata": {
    "ExecuteTime": {
     "end_time": "2019-06-21T12:42:07.951028Z",
     "start_time": "2019-06-21T12:42:06.766129Z"
    }
   },
   "outputs": [],
   "source": [
    "def read_content(fname):\n",
    "    with open(fname, 'r') as file:\n",
    "        data = file.read()#.replace('\\n', '')\n",
    "    return data\n",
    "\n",
    "# tokenize sentences\n",
    "\n",
    "from nltk.tokenize import sent_tokenize \n",
    "\n",
    "def sentenize(data_strings):\n",
    "    '''This will return a list of sentences'''\n",
    "    sentences = sent_tokenize(data_strings)\n",
    "    return sentences\n"
   ]
  },
  {
   "cell_type": "code",
   "execution_count": 2,
   "metadata": {
    "ExecuteTime": {
     "end_time": "2019-06-21T12:42:07.956166Z",
     "start_time": "2019-06-21T12:42:07.953318Z"
    }
   },
   "outputs": [],
   "source": [
    "data = read_content('b.txt')"
   ]
  },
  {
   "cell_type": "code",
   "execution_count": 3,
   "metadata": {
    "ExecuteTime": {
     "end_time": "2019-06-21T12:42:07.972928Z",
     "start_time": "2019-06-21T12:42:07.957616Z"
    }
   },
   "outputs": [],
   "source": [
    "sent = sentenize(data)"
   ]
  },
  {
   "cell_type": "code",
   "execution_count": 4,
   "metadata": {
    "ExecuteTime": {
     "end_time": "2019-06-21T12:42:07.978727Z",
     "start_time": "2019-06-21T12:42:07.974735Z"
    }
   },
   "outputs": [
    {
     "name": "stdout",
     "output_type": "stream",
     "text": [
      "Deel A: Het dark number\n",
      "Om mensenhandel zichtbaar te maken, zijn twee punten van belang: ten eerste moet het onzichtbare deel \n",
      "zo goed mogelijk geschat worden.\n"
     ]
    }
   ],
   "source": [
    "print(sent[6])"
   ]
  },
  {
   "cell_type": "code",
   "execution_count": 6,
   "metadata": {
    "ExecuteTime": {
     "end_time": "2019-06-21T12:45:36.995150Z",
     "start_time": "2019-06-21T12:45:36.991826Z"
    }
   },
   "outputs": [],
   "source": [
    "import unicodedata\n",
    "\n",
    "def remove_accented_chars(text):\n",
    "    text = unicodedata.normalize('NFKD', text).encode('ascii', 'ignore').decode('utf-8', 'ignore')\n",
    "    return text\n"
   ]
  },
  {
   "cell_type": "code",
   "execution_count": 16,
   "metadata": {
    "ExecuteTime": {
     "end_time": "2019-06-21T12:49:51.420520Z",
     "start_time": "2019-06-21T12:49:51.418123Z"
    }
   },
   "outputs": [],
   "source": [
    "text = \"Zeven zeeën, cïcäk.  Işaretini, Türkçe, bazı semboller\""
   ]
  },
  {
   "cell_type": "code",
   "execution_count": 17,
   "metadata": {
    "ExecuteTime": {
     "end_time": "2019-06-21T12:49:51.798536Z",
     "start_time": "2019-06-21T12:49:51.794964Z"
    }
   },
   "outputs": [
    {
     "data": {
      "text/plain": [
       "'Zeven zeeën, cïcäk.  Işaretini, Türkçe, bazı semboller'"
      ]
     },
     "execution_count": 17,
     "metadata": {},
     "output_type": "execute_result"
    }
   ],
   "source": [
    "text"
   ]
  },
  {
   "cell_type": "code",
   "execution_count": 18,
   "metadata": {
    "ExecuteTime": {
     "end_time": "2019-06-21T12:49:52.954079Z",
     "start_time": "2019-06-21T12:49:52.949352Z"
    }
   },
   "outputs": [
    {
     "data": {
      "text/plain": [
       "'Zeven zeeen, cicak.  Isaretini, Turkce, baz semboller'"
      ]
     },
     "execution_count": 18,
     "metadata": {},
     "output_type": "execute_result"
    }
   ],
   "source": [
    "remove_accented_chars(text)"
   ]
  },
  {
   "cell_type": "code",
   "execution_count": 24,
   "metadata": {
    "ExecuteTime": {
     "end_time": "2019-06-21T13:01:08.798220Z",
     "start_time": "2019-06-21T13:01:08.793535Z"
    }
   },
   "outputs": [],
   "source": [
    "class DataTransform:\n",
    "    def __init__(self, fname):\n",
    "        self.fname = fname\n",
    "    \n",
    "    def read_content(self):\n",
    "        \n",
    "        with open(self.fname, 'r') as file:\n",
    "            data = file.read()#.replace('\\n', '')\n",
    "        return data\n",
    "    \n",
    "    def sentenize(self, data_strings):\n",
    "        '''This will return a list of sentences'''\n",
    "        sentences = sent_tokenize(data_strings)\n",
    "        return sentences\n",
    "    "
   ]
  },
  {
   "cell_type": "code",
   "execution_count": 25,
   "metadata": {
    "ExecuteTime": {
     "end_time": "2019-06-21T13:01:09.881925Z",
     "start_time": "2019-06-21T13:01:09.879178Z"
    }
   },
   "outputs": [],
   "source": [
    "a = DataTransform('b.txt')"
   ]
  },
  {
   "cell_type": "code",
   "execution_count": 26,
   "metadata": {
    "ExecuteTime": {
     "end_time": "2019-06-21T13:01:11.185128Z",
     "start_time": "2019-06-21T13:01:11.182769Z"
    }
   },
   "outputs": [],
   "source": [
    "data = a.read_content"
   ]
  },
  {
   "cell_type": "code",
   "execution_count": 27,
   "metadata": {
    "ExecuteTime": {
     "end_time": "2019-06-21T13:01:11.709887Z",
     "start_time": "2019-06-21T13:01:11.705963Z"
    }
   },
   "outputs": [
    {
     "data": {
      "text/plain": [
       "<bound method DataTransform.read_content of <__main__.DataTransform object at 0x1a22210668>>"
      ]
     },
     "execution_count": 27,
     "metadata": {},
     "output_type": "execute_result"
    }
   ],
   "source": [
    "data"
   ]
  },
  {
   "cell_type": "code",
   "execution_count": 28,
   "metadata": {
    "ExecuteTime": {
     "end_time": "2019-06-21T13:01:45.694516Z",
     "start_time": "2019-06-21T13:01:45.685607Z"
    }
   },
   "outputs": [],
   "source": [
    "data = read_content('b.txt')"
   ]
  },
  {
   "cell_type": "code",
   "execution_count": 29,
   "metadata": {
    "ExecuteTime": {
     "end_time": "2019-06-21T13:01:49.152903Z",
     "start_time": "2019-06-21T13:01:49.149268Z"
    }
   },
   "outputs": [
    {
     "data": {
      "text/plain": [
       "'Mensenhandel in en uit beeld\\n20\\nFiguur 1.1 De omvang van mensenhandel in Nederland (2011)\\nCijfermatige gegevens geven vooral geregistreerde mensenhandel weer: in 2011 zijn 1.222 mogelijke \\nslachtoffers gemeld bij het Coördinatiecentrum Mensenhandel (CoMensha) en waren 255 verdachten \\nin beeld bij het OM. Maar dit is niet de hele werkelijkheid: ten eerste is er een groot dark number, waarvan \\nde omvang vooralsnog onbekend is: dit zijn alle mensenhandelsituaties waarvan geen enkele instantie \\nweet heeft. Ten tweede kunnen er ook mensen geregistreerd worden als slachtoffer of dader, maar dat \\nin werkelijkheid niet zijn: de false positives. Het aantal mensenhandelsituaties dat bekend is bij instan-\\nties zoals CoMensha en het OM hangt met name af van andere ontwikkelingen die los staan van de \\ndaadwerkelijke omvang: als de politie bijvoorbeeld meer investeert in opsporing van mensenhandel, \\nzullen er als het goed is meer verdachten van mensenhandel bij het OM aangeleverd worden. Ook als de \\naandacht in de samenleving groter wordt, kan er meer mensenhandel gesignaleerd worden. Dergelijke \\nveranderingen verplaatsen de stippellijn in Figuur 1.1 naar beneden: een groter deel van de werkelijke \\nmensenhandel wordt zichtbaar. \\nDeel A: Het dark number\\nOm mensenhandel zichtbaar te maken, zijn twee punten van belang: ten eerste moet het onzichtbare deel \\nzo goed mogelijk geschat worden. Zo weten relevante instanties waar ze naar op zoek zijn. Hoofdstuk 2 \\nbehandelt bestaande schattingen van mensenhandel in (en buiten) Nederland. Het probleem is niet dat \\nschattingen ontbreken, maar dat ze niet accuraat en betrouwbaar zijn. Dit hoofdstuk doet een aantal be-\\nlangrijke suggesties om te komen tot de benodigde betere schattingen.\\n   \\n     \\n \\n \\n \\n \\n \\n    \\n \\n \\n Dark number (uit beeld)\\nGeregistreerde mensenhandel (in beeld)\\nCoMensha\\n1.222\\nmogelijke\\nslachto\\x06ers\\nOM\\n255\\nverdachten\\nFa\\nlse\\n po\\nsit\\nive\\ns False positives\\nInleiding\\n21\\nDeel B: Geregistreerde mensenhandel\\nEén belangrijke constatering van Hoofdstuk 2 is dat om onzichtbare mensenhandel te schatten, zoveel \\nmogelijk bekend moet zijn over zichtbare mensenhandel. De mensenhandel die al wel in zicht is, moet \\ndat ook in zijn volle aard en omvang zijn. En niet alleen om te schatten: uiteindelijk zijn de geregis-\\ntreerde zaken de eerste waar beleid op gevoerd kan worden. Het OM, bijvoorbeeld, krijgt uiteraard alleen \\nzaken te verwerken die bij de politie al bekend zijn. Pakt het deze goed aan? Uit voornoemd voorbeeld \\nblijkt dat cijfermatige data ook deze vraag kunnen helpen beantwoorden.\\nHoofdstuk 3 gaat over zichtbare (vermoedelijke) slachtoffers: CoMensha registreert in principe alle ver-\\nmoedelijke slachtoffers van mensenhandel. Door verbeteringen in de registratie bevat deze rapportage \\nmeer data dan voorheen mogelijk was: waaronder gegevens over aangiftebereidheid en over opvang-\\nbehoefte. Zo blijkt bijvoorbeeld dat de vraag naar opvangplaatsen stijgt, en groter is dan het aanbod.\\nHoofdstuk 4 bevat data over slachtoffers die een tijdelijke verblijfsvergunning op grond van de B9-re-\\ngeling4 hebben gekregen. De B9-regeling is een instrument in de opsporing, omdat het slachtoffer zo \\nbeschikbaar blijft voor politie en justitie, en biedt daarnaast het slachtoffer hulp. Voor het eerst zijn \\ngegevens bekend over slachtoffers die gebruik maakten van de bedenktijd. Zo kan bijvoorbeeld voor \\nhet eerst gekeken worden hoeveel slachtoffers gebruik maakten van de bedenktijd, zonder daarna een \\nB9-aanvraag in te dienen. Dit blijkt bij een deel van de slachtoffers het geval te zijn.\\nHoofdstuk 5 analyseert alle 55 in 2009 bij de politie afgeronde opsporingsonderzoeken. Hier blijkt dat \\nmensenhandelzaken ingedeeld kunnen worden naar verschillende typen structuren, en dat verschil-\\nlende rollen in het mensenhandelproces vervuld worden door verschillende typen daders.\\nHoofdstuk 6 behandelt vervolging en berechting van mensenhandelaren in Nederland, van inschrijving \\nbij het OM tot aan afdoening in hoger beroep. Opvallend is bijvoorbeeld dat één vijfde van de onvoor-\\nwaardelijke sepots bij het OM een beleidssepot is. \\nMensenhandel is niet gebonden aan landsgrenzen: zowel daders als slachtoffers bewegen zich vaak door \\nmeerdere landen. Daarom is er internationaal veel aandacht voor het genereren van vergelijkbare data \\nover mensenhandel. Hoofdstuk 7 bevat een beschouwing van dergelijke afgeronde en lopende initia-\\ntieven op voornamelijk Europees niveau. Hieruit blijkt het belang van internationale samenwerking. \\n4 De B9-regeling is de vreemdelingrechtelijke regeling voor buitenlandse slachtoffers van mensenhan-\\ndel. Voor meer informatie zie NRM 7, Hoofdstuk 5.\\nMensenhandel in en uit beeld\\n22\\nNationaal rapporteurs\\nIngevolge de EU-Richtlijn mensenhandel moeten EU-lidstaten een nationaal rapporteur of een \\nvergelijkbaar mechanisme instellen om de aanpak van mensenhandel te monitoren en hierover \\nte rapporteren.5 In de EU-lidstaten bestaan inmiddels (vrijwel) overal mechanismen die deze taak \\nvervullen, veelal ondergebracht bij een ministerie. In Figuur 7.1 wordt weergegeven dat op na-\\ntionaal niveau vaak een veelheid aan operationele bronnen is die allemaal over relevante data \\nkunnen beschikken. De data met betrekking tot daders zullen over het algemeen zonder probleem \\nter beschikking zijn of worden gesteld aan de monitoring mechanismen ondergebracht bij een \\nministerie. Anders ligt dat ten aanzien van – dikwijls gevoelige – gegevens van slachtoffers. Vaak \\nzijn non-gouvernementele organisaties (NGO’s) terughoudend met het delen van deze gegevens \\nmet overheidsinstanties. De bescherming van de privacy van het slachtoffer speelt hierbij een be-\\nlangrijke rol; alsook onzekerheid over de beveiliging van die gegevens.6 In Nederland speelt dit pro-\\nbleem niet, hetgeen terug te voeren is op de onafhankelijke positie die de NRM heeft.7 Deze positie \\nwaarborgt de bescherming van gevoelige data inzake slachtoffers, maar ook die van verdachten en \\nveroordeelden. Het ontbreken van een onafhankelijke positie kan leiden tot het beschikken over \\nonvoldoende data. Dit kan het analyseproces en in het verlengde daarvan het ontwikkelen van \\neffectief beleid nadelig beïnvloeden. \\nDeel C: conclusies en aanbevelingen\\nMet cijfermatige data schijnt deze rapportage een groot zoeklicht op het probleem mensenhandel. De \\ngegevens over (on)zichtbare mensenhandel tekenen de contouren van het probleem zelf, en van het ge-\\nvoerde beleid. Deel C bevat dan ook de belangrijkste bevindingen, en de daaruit volgende aanbevelingen. \\nDe kernboodschap van deze rapportage luidt:\\nOm mensenhandel effectief te kunnen bestrijden, moet mensenhandel zichtbaar zijn. Mensen-\\nhandel die nog niet in beeld is, moet in beeld gebracht worden; mensenhandel die al wel in beeld \\nis, moet beter geregistreerd worden.\\n5 Zie 2011/EU/36, art. 19 en par. 27 considerans. Art. 19 luidt: ‘Member States shall take the necessary measures \\nto establish national rapporteurs or equivalent mechanisms. The tasks of such mechanisms shall include the carrying out \\nof assessments of trends in trafficking in human beings, the measuring of results of anti-trafficking actions, including the \\ngathering of statistics in close cooperation with relevant civil society organisations active in this field, and reporting’.\\n6 Zo bleek onder andere uit de internationale expert meeting ‘Making prevention work: addressing the root \\ncauses of human trafficking in Europe’, 4-5 december 2012, Sofia, Bulgarije.\\n7 Inherent aan deze onafhankelijkheid zijn bij de NRM geen coördinerende of aansturende taken neer-\\ngelegd. Zie verder ook: NRM8, §1.2 en §2.1 \\n'"
      ]
     },
     "execution_count": 29,
     "metadata": {},
     "output_type": "execute_result"
    }
   ],
   "source": [
    "data"
   ]
  },
  {
   "cell_type": "code",
   "execution_count": null,
   "metadata": {},
   "outputs": [],
   "source": []
  }
 ],
 "metadata": {
  "kernelspec": {
   "display_name": "Python 3",
   "language": "python",
   "name": "python3"
  },
  "language_info": {
   "codemirror_mode": {
    "name": "ipython",
    "version": 3
   },
   "file_extension": ".py",
   "mimetype": "text/x-python",
   "name": "python",
   "nbconvert_exporter": "python",
   "pygments_lexer": "ipython3",
   "version": "3.7.2"
  },
  "toc": {
   "base_numbering": 1,
   "nav_menu": {},
   "number_sections": true,
   "sideBar": true,
   "skip_h1_title": false,
   "title_cell": "Table of Contents",
   "title_sidebar": "Contents",
   "toc_cell": false,
   "toc_position": {},
   "toc_section_display": true,
   "toc_window_display": false
  }
 },
 "nbformat": 4,
 "nbformat_minor": 2
}
